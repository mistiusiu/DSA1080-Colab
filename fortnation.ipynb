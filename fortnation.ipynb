{
 "cells": [
  {
   "cell_type": "code",
   "execution_count": null,
   "metadata": {},
   "outputs": [],
   "source": [
    "fruits = [\"Orange\", \"Apple\", \"Kiwi\", \"Avacado\"]\n",
    "fruits.append(\"Grape\")\n",
    "fruits.pop(1)\n",
    "fruits.insert(1,\"Banana\")\n",
    "fruits.pop()\n",
    "print(fruits)"
   ]
  },
  {
   "cell_type": "code",
   "execution_count": null,
   "metadata": {},
   "outputs": [],
   "source": [
    "#tuple exploration\n",
    "tuple = (\"Purple\", \"Red\", \"Pink\", \"Black\",)\n",
    "y = list (tuple)\n",
    "y.append(\"Silver\")\n",
    "tuple = tuple(y)\n"
   ]
  },
  {
   "cell_type": "code",
   "execution_count": null,
   "metadata": {},
   "outputs": [],
   "source": [
    "fruits = [\"Orange\", \"Apple\", \"Kiwi\", \"Avacado\"]\n",
    "fruits =(fruits[0]+\",\"+ fruits[-1])\n",
    "print(fruits)\n",
    "fruits = (fruits[1:5:2])\n",
    "print(fruits)"
   ]
  },
  {
   "cell_type": "code",
   "execution_count": null,
   "metadata": {},
   "outputs": [],
   "source": [
    "#combine the fruits list and the colours tuple into a new list named combined\n",
    "colours = ('Red', 'Blue', 'Pink', 'Purple')\n",
    "fruits = [\"Orange\", \"Apple\", \"Kiwi\", \"Avacado\"]\n",
    "combined = fruits + colours\n",
    "print(combined)"
   ]
  }
 ],
 "metadata": {
  "language_info": {
   "name": "python"
  }
 },
 "nbformat": 4,
 "nbformat_minor": 2
}
